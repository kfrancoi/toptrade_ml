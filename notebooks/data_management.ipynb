{
 "cells": [
  {
   "cell_type": "markdown",
   "metadata": {},
   "source": [
    "# Imports"
   ]
  },
  {
   "cell_type": "code",
   "execution_count": null,
   "metadata": {},
   "outputs": [],
   "source": [
    "import os, sys\n",
    "PROJ_ROOT = os.path.abspath('/home/jovyan')\n",
    "os.chdir(PROJ_ROOT)\n",
    "PROJ_SRC = os.path.abspath('/home/jovyan/src')\n",
    "sys.path.append(PROJ_SRC)"
   ]
  },
  {
   "cell_type": "code",
   "execution_count": null,
   "metadata": {},
   "outputs": [],
   "source": [
    "from sagaconfig import config\n",
    "\n",
    "from src.data.process_data import process_raw_data\n",
    "from src.resources.s3 import download_if_not_exist"
   ]
  },
  {
   "cell_type": "markdown",
   "metadata": {},
   "source": [
    "# Parameters"
   ]
  },
  {
   "cell_type": "code",
   "execution_count": null,
   "metadata": {
    "tags": [
     "parameters"
    ]
   },
   "outputs": [],
   "source": [
    "# Default parameters will be overwritten by papermill parameters in a next bloc\n",
    "process = False\n",
    "upload = False"
   ]
  },
  {
   "cell_type": "markdown",
   "metadata": {},
   "source": [
    "# Resources"
   ]
  },
  {
   "cell_type": "code",
   "execution_count": null,
   "metadata": {},
   "outputs": [],
   "source": [
    "for resource in config[\"s3\"][\"resources\"]:\n",
    "    print(\"Downloading resource {}...\".format(resource))\n",
    "    download_if_not_exist(resource, \"data/resources/{}\".format(resource))"
   ]
  },
  {
   "cell_type": "markdown",
   "metadata": {},
   "source": [
    "# Data"
   ]
  },
  {
   "cell_type": "code",
   "execution_count": null,
   "metadata": {},
   "outputs": [],
   "source": [
    "if process:\n",
    "    for raw in config[\"s3\"][\"raw\"]:\n",
    "        print(\"Downloading raw data {}...\".format(raw))\n",
    "        download_if_not_exist(raw, \"data/raw/{}\".format(raw))\n",
    "    print(\"Processing raw data\")\n",
    "    process_raw_data(upload)\n",
    "else:\n",
    "    for processed in config[\"s3\"][\"processed\"]:\n",
    "        print(\"Downloading processed {}...\".format(processed))\n",
    "        download_if_not_exist(processed, \"data/processed/{0}\".format(processed))"
   ]
  }
 ],
 "metadata": {
  "kernelspec": {
   "display_name": "Python 3",
   "language": "python",
   "name": "python3"
  },
  "language_info": {
   "codemirror_mode": {
    "name": "ipython",
    "version": 3
   },
   "file_extension": ".py",
   "mimetype": "text/x-python",
   "name": "python",
   "nbconvert_exporter": "python",
   "pygments_lexer": "ipython3",
   "version": "3.6.8"
  }
 },
 "nbformat": 4,
 "nbformat_minor": 4
}
