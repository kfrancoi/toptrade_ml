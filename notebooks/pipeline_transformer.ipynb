{
 "cells": [
  {
   "cell_type": "markdown",
   "metadata": {},
   "source": [
    "# Imports"
   ]
  },
  {
   "cell_type": "code",
   "execution_count": null,
   "metadata": {},
   "outputs": [],
   "source": [
    "import os, sys\n",
    "PROJ_ROOT = os.path.abspath('/home/jovyan')\n",
    "os.chdir(PROJ_ROOT)\n",
    "PROJ_SRC = os.path.abspath('/home/jovyan/src')\n",
    "sys.path.append(PROJ_SRC)"
   ]
  },
  {
   "cell_type": "code",
   "execution_count": null,
   "metadata": {},
   "outputs": [],
   "source": [
    "import time\n",
    "from pprint import pprint\n",
    "from typing import Any, Dict\n",
    "\n",
    "from src.helpers.utils import dump_json, load_json, create_dir\n",
    "from src.s1_data_loaders.TransformerDataLoader import TransformerDataLoader as DataLoader\n",
    "from src.s2_data_transformers.TransformerDataTransformer import TransformerDataTransformer as DataTransformer\n",
    "from src.s3_models.TransformerModel import TransformerModel as Model\n",
    "from src.s4_trainers.TransformerTrainer import TransformerTrainer as Trainer\n",
    "from src.s5_evaluaters.TransformerEvaluater import TransformerEvaluater as Evaluater"
   ]
  },
  {
   "cell_type": "markdown",
   "metadata": {},
   "source": [
    "# Parameters"
   ]
  },
  {
   "cell_type": "code",
   "execution_count": null,
   "metadata": {
    "tags": [
     "parameters"
    ]
   },
   "outputs": [],
   "source": [
    "# Default parameters will be overwritten by papermill parameters in a next bloc\n",
    "config = 'config/transformer.json'"
   ]
  },
  {
   "cell_type": "code",
   "execution_count": null,
   "metadata": {},
   "outputs": [],
   "source": [
    "print('Using config: {}'.format(config))\n",
    "config = load_json(config)\n",
    "experiment_time = time.strftime(\"%Y-%m-%d-%Hh%M\", time.localtime())"
   ]
  },
  {
   "cell_type": "markdown",
   "metadata": {},
   "source": [
    "# Data"
   ]
  },
  {
   "cell_type": "code",
   "execution_count": null,
   "metadata": {},
   "outputs": [],
   "source": [
    "data_loader = DataLoader(config)\n",
    "\n",
    "train_data_transformer = DataTransformer(config, data_loader.train_data())\n",
    "test_data_transformer = DataTransformer(config, data_loader.test_data())\n",
    "\n",
    "data = {\n",
    "    \"train\": train_data_transformer.get_transformed_data(),\n",
    "    \"test\": test_data_transformer.get_transformed_data()\n",
    "}"
   ]
  },
  {
   "cell_type": "markdown",
   "metadata": {},
   "source": [
    "# Model"
   ]
  },
  {
   "cell_type": "code",
   "execution_count": null,
   "metadata": {},
   "outputs": [],
   "source": [
    "model = Model(config)"
   ]
  },
  {
   "cell_type": "markdown",
   "metadata": {},
   "source": [
    "# Trainer"
   ]
  },
  {
   "cell_type": "code",
   "execution_count": null,
   "metadata": {},
   "outputs": [],
   "source": [
    "trainer = Trainer(config, model.model, data, experiment_time=experiment_time)\n",
    "trainer.train()"
   ]
  },
  {
   "cell_type": "markdown",
   "metadata": {},
   "source": [
    "# Evaluater"
   ]
  },
  {
   "cell_type": "code",
   "execution_count": null,
   "metadata": {},
   "outputs": [],
   "source": [
    "evaluater = Evaluater(model, data[\"test\"])\n",
    "performances = evaluater.summary()\n",
    "pprint(performances)"
   ]
  },
  {
   "cell_type": "markdown",
   "metadata": {},
   "source": [
    "# Report"
   ]
  },
  {
   "cell_type": "code",
   "execution_count": null,
   "metadata": {},
   "outputs": [],
   "source": [
    "report = {\n",
    "    \"model\": config[\"name\"],\n",
    "    \"training_data\": len(data[\"train\"][\"X\"]),\n",
    "    \"performances\": performances,\n",
    "    \"created_at\": experiment_time,\n",
    "    \"config\": config\n",
    "}"
   ]
  },
  {
   "cell_type": "markdown",
   "metadata": {},
   "source": [
    "# Saving"
   ]
  },
  {
   "cell_type": "code",
   "execution_count": null,
   "metadata": {},
   "outputs": [],
   "source": [
    "# Directory\n",
    "output_path = os.path.join(\"data/saved\", config[\"name\"], experiment_time)\n",
    "create_dir(output_path)\n",
    "\n",
    "# Report\n",
    "report_path = os.path.join(output_path, \"report.json\")\n",
    "dump_json(report, report_path, sort_keys=True, indent=2)\n",
    "\n",
    "# Model\n",
    "model.save(output_path)"
   ]
  }
 ],
 "metadata": {
  "kernelspec": {
   "display_name": "Python 3",
   "language": "python",
   "name": "python3"
  },
  "language_info": {
   "codemirror_mode": {
    "name": "ipython",
    "version": 3
   },
   "file_extension": ".py",
   "mimetype": "text/x-python",
   "name": "python",
   "nbconvert_exporter": "python",
   "pygments_lexer": "ipython3",
   "version": "3.6.8"
  }
 },
 "nbformat": 4,
 "nbformat_minor": 4
}
